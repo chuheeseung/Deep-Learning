{
  "nbformat": 4,
  "nbformat_minor": 0,
  "metadata": {
    "colab": {
      "name": "[실습02]MLP-학습.ipynb",
      "provenance": [],
      "collapsed_sections": []
    },
    "kernelspec": {
      "name": "python3",
      "display_name": "Python 3"
    },
    "language_info": {
      "name": "python"
    },
    "widgets": {
      "application/vnd.jupyter.widget-state+json": {
        "4b843958a2844b97be5a7c557cabec4a": {
          "model_module": "@jupyter-widgets/controls",
          "model_name": "HBoxModel",
          "model_module_version": "1.5.0",
          "state": {
            "_view_name": "HBoxView",
            "_dom_classes": [],
            "_model_name": "HBoxModel",
            "_view_module": "@jupyter-widgets/controls",
            "_model_module_version": "1.5.0",
            "_view_count": null,
            "_view_module_version": "1.5.0",
            "box_style": "",
            "layout": "IPY_MODEL_1c40e9e66b3b437cbcfd5a84fcc7b81c",
            "_model_module": "@jupyter-widgets/controls",
            "children": [
              "IPY_MODEL_8b33ad6e17c04e64886c51a3bb40fa05",
              "IPY_MODEL_6d526ee4fe9a43f69a7dc511cc5fc4b7",
              "IPY_MODEL_42bd775626d44aeda8da91de34f3bc1e"
            ]
          }
        },
        "1c40e9e66b3b437cbcfd5a84fcc7b81c": {
          "model_module": "@jupyter-widgets/base",
          "model_name": "LayoutModel",
          "model_module_version": "1.2.0",
          "state": {
            "_view_name": "LayoutView",
            "grid_template_rows": null,
            "right": null,
            "justify_content": null,
            "_view_module": "@jupyter-widgets/base",
            "overflow": null,
            "_model_module_version": "1.2.0",
            "_view_count": null,
            "flex_flow": null,
            "width": null,
            "min_width": null,
            "border": null,
            "align_items": null,
            "bottom": null,
            "_model_module": "@jupyter-widgets/base",
            "top": null,
            "grid_column": null,
            "overflow_y": null,
            "overflow_x": null,
            "grid_auto_flow": null,
            "grid_area": null,
            "grid_template_columns": null,
            "flex": null,
            "_model_name": "LayoutModel",
            "justify_items": null,
            "grid_row": null,
            "max_height": null,
            "align_content": null,
            "visibility": null,
            "align_self": null,
            "height": null,
            "min_height": null,
            "padding": null,
            "grid_auto_rows": null,
            "grid_gap": null,
            "max_width": null,
            "order": null,
            "_view_module_version": "1.2.0",
            "grid_template_areas": null,
            "object_position": null,
            "object_fit": null,
            "grid_auto_columns": null,
            "margin": null,
            "display": null,
            "left": null
          }
        },
        "8b33ad6e17c04e64886c51a3bb40fa05": {
          "model_module": "@jupyter-widgets/controls",
          "model_name": "HTMLModel",
          "model_module_version": "1.5.0",
          "state": {
            "_view_name": "HTMLView",
            "style": "IPY_MODEL_8cf0faadb5cc407ebd3f78f6b5a1dc3b",
            "_dom_classes": [],
            "description": "",
            "_model_name": "HTMLModel",
            "placeholder": "​",
            "_view_module": "@jupyter-widgets/controls",
            "_model_module_version": "1.5.0",
            "value": "",
            "_view_count": null,
            "_view_module_version": "1.5.0",
            "description_tooltip": null,
            "_model_module": "@jupyter-widgets/controls",
            "layout": "IPY_MODEL_a05c90f2a35942e59c87b8d31842e607"
          }
        },
        "6d526ee4fe9a43f69a7dc511cc5fc4b7": {
          "model_module": "@jupyter-widgets/controls",
          "model_name": "FloatProgressModel",
          "model_module_version": "1.5.0",
          "state": {
            "_view_name": "ProgressView",
            "style": "IPY_MODEL_c8a294a463d544b68044e59ecff279d8",
            "_dom_classes": [],
            "description": "",
            "_model_name": "FloatProgressModel",
            "bar_style": "success",
            "max": 9912422,
            "_view_module": "@jupyter-widgets/controls",
            "_model_module_version": "1.5.0",
            "value": 9912422,
            "_view_count": null,
            "_view_module_version": "1.5.0",
            "orientation": "horizontal",
            "min": 0,
            "description_tooltip": null,
            "_model_module": "@jupyter-widgets/controls",
            "layout": "IPY_MODEL_67534f79794746acbd05fb523a0f8f22"
          }
        },
        "42bd775626d44aeda8da91de34f3bc1e": {
          "model_module": "@jupyter-widgets/controls",
          "model_name": "HTMLModel",
          "model_module_version": "1.5.0",
          "state": {
            "_view_name": "HTMLView",
            "style": "IPY_MODEL_c8a8d34779dc4c438cebe25e6d1172f7",
            "_dom_classes": [],
            "description": "",
            "_model_name": "HTMLModel",
            "placeholder": "​",
            "_view_module": "@jupyter-widgets/controls",
            "_model_module_version": "1.5.0",
            "value": " 9913344/? [00:00&lt;00:00, 49570274.40it/s]",
            "_view_count": null,
            "_view_module_version": "1.5.0",
            "description_tooltip": null,
            "_model_module": "@jupyter-widgets/controls",
            "layout": "IPY_MODEL_f7ffa9e3600c4107a479cf07fac283d6"
          }
        },
        "8cf0faadb5cc407ebd3f78f6b5a1dc3b": {
          "model_module": "@jupyter-widgets/controls",
          "model_name": "DescriptionStyleModel",
          "model_module_version": "1.5.0",
          "state": {
            "_view_name": "StyleView",
            "_model_name": "DescriptionStyleModel",
            "description_width": "",
            "_view_module": "@jupyter-widgets/base",
            "_model_module_version": "1.5.0",
            "_view_count": null,
            "_view_module_version": "1.2.0",
            "_model_module": "@jupyter-widgets/controls"
          }
        },
        "a05c90f2a35942e59c87b8d31842e607": {
          "model_module": "@jupyter-widgets/base",
          "model_name": "LayoutModel",
          "model_module_version": "1.2.0",
          "state": {
            "_view_name": "LayoutView",
            "grid_template_rows": null,
            "right": null,
            "justify_content": null,
            "_view_module": "@jupyter-widgets/base",
            "overflow": null,
            "_model_module_version": "1.2.0",
            "_view_count": null,
            "flex_flow": null,
            "width": null,
            "min_width": null,
            "border": null,
            "align_items": null,
            "bottom": null,
            "_model_module": "@jupyter-widgets/base",
            "top": null,
            "grid_column": null,
            "overflow_y": null,
            "overflow_x": null,
            "grid_auto_flow": null,
            "grid_area": null,
            "grid_template_columns": null,
            "flex": null,
            "_model_name": "LayoutModel",
            "justify_items": null,
            "grid_row": null,
            "max_height": null,
            "align_content": null,
            "visibility": null,
            "align_self": null,
            "height": null,
            "min_height": null,
            "padding": null,
            "grid_auto_rows": null,
            "grid_gap": null,
            "max_width": null,
            "order": null,
            "_view_module_version": "1.2.0",
            "grid_template_areas": null,
            "object_position": null,
            "object_fit": null,
            "grid_auto_columns": null,
            "margin": null,
            "display": null,
            "left": null
          }
        },
        "c8a294a463d544b68044e59ecff279d8": {
          "model_module": "@jupyter-widgets/controls",
          "model_name": "ProgressStyleModel",
          "model_module_version": "1.5.0",
          "state": {
            "_view_name": "StyleView",
            "_model_name": "ProgressStyleModel",
            "description_width": "",
            "_view_module": "@jupyter-widgets/base",
            "_model_module_version": "1.5.0",
            "_view_count": null,
            "_view_module_version": "1.2.0",
            "bar_color": null,
            "_model_module": "@jupyter-widgets/controls"
          }
        },
        "67534f79794746acbd05fb523a0f8f22": {
          "model_module": "@jupyter-widgets/base",
          "model_name": "LayoutModel",
          "model_module_version": "1.2.0",
          "state": {
            "_view_name": "LayoutView",
            "grid_template_rows": null,
            "right": null,
            "justify_content": null,
            "_view_module": "@jupyter-widgets/base",
            "overflow": null,
            "_model_module_version": "1.2.0",
            "_view_count": null,
            "flex_flow": null,
            "width": null,
            "min_width": null,
            "border": null,
            "align_items": null,
            "bottom": null,
            "_model_module": "@jupyter-widgets/base",
            "top": null,
            "grid_column": null,
            "overflow_y": null,
            "overflow_x": null,
            "grid_auto_flow": null,
            "grid_area": null,
            "grid_template_columns": null,
            "flex": null,
            "_model_name": "LayoutModel",
            "justify_items": null,
            "grid_row": null,
            "max_height": null,
            "align_content": null,
            "visibility": null,
            "align_self": null,
            "height": null,
            "min_height": null,
            "padding": null,
            "grid_auto_rows": null,
            "grid_gap": null,
            "max_width": null,
            "order": null,
            "_view_module_version": "1.2.0",
            "grid_template_areas": null,
            "object_position": null,
            "object_fit": null,
            "grid_auto_columns": null,
            "margin": null,
            "display": null,
            "left": null
          }
        },
        "c8a8d34779dc4c438cebe25e6d1172f7": {
          "model_module": "@jupyter-widgets/controls",
          "model_name": "DescriptionStyleModel",
          "model_module_version": "1.5.0",
          "state": {
            "_view_name": "StyleView",
            "_model_name": "DescriptionStyleModel",
            "description_width": "",
            "_view_module": "@jupyter-widgets/base",
            "_model_module_version": "1.5.0",
            "_view_count": null,
            "_view_module_version": "1.2.0",
            "_model_module": "@jupyter-widgets/controls"
          }
        },
        "f7ffa9e3600c4107a479cf07fac283d6": {
          "model_module": "@jupyter-widgets/base",
          "model_name": "LayoutModel",
          "model_module_version": "1.2.0",
          "state": {
            "_view_name": "LayoutView",
            "grid_template_rows": null,
            "right": null,
            "justify_content": null,
            "_view_module": "@jupyter-widgets/base",
            "overflow": null,
            "_model_module_version": "1.2.0",
            "_view_count": null,
            "flex_flow": null,
            "width": null,
            "min_width": null,
            "border": null,
            "align_items": null,
            "bottom": null,
            "_model_module": "@jupyter-widgets/base",
            "top": null,
            "grid_column": null,
            "overflow_y": null,
            "overflow_x": null,
            "grid_auto_flow": null,
            "grid_area": null,
            "grid_template_columns": null,
            "flex": null,
            "_model_name": "LayoutModel",
            "justify_items": null,
            "grid_row": null,
            "max_height": null,
            "align_content": null,
            "visibility": null,
            "align_self": null,
            "height": null,
            "min_height": null,
            "padding": null,
            "grid_auto_rows": null,
            "grid_gap": null,
            "max_width": null,
            "order": null,
            "_view_module_version": "1.2.0",
            "grid_template_areas": null,
            "object_position": null,
            "object_fit": null,
            "grid_auto_columns": null,
            "margin": null,
            "display": null,
            "left": null
          }
        },
        "dc10ab5008ab4f0ba10e908e94d13674": {
          "model_module": "@jupyter-widgets/controls",
          "model_name": "HBoxModel",
          "model_module_version": "1.5.0",
          "state": {
            "_view_name": "HBoxView",
            "_dom_classes": [],
            "_model_name": "HBoxModel",
            "_view_module": "@jupyter-widgets/controls",
            "_model_module_version": "1.5.0",
            "_view_count": null,
            "_view_module_version": "1.5.0",
            "box_style": "",
            "layout": "IPY_MODEL_2d7280bf71df431b9d28006ee5fc0aef",
            "_model_module": "@jupyter-widgets/controls",
            "children": [
              "IPY_MODEL_51e3a741da474900ac6d527c30e34656",
              "IPY_MODEL_0805eda2a0f7471da762239fa60df0e3",
              "IPY_MODEL_258a0050aab54c768d788055b80cfeeb"
            ]
          }
        },
        "2d7280bf71df431b9d28006ee5fc0aef": {
          "model_module": "@jupyter-widgets/base",
          "model_name": "LayoutModel",
          "model_module_version": "1.2.0",
          "state": {
            "_view_name": "LayoutView",
            "grid_template_rows": null,
            "right": null,
            "justify_content": null,
            "_view_module": "@jupyter-widgets/base",
            "overflow": null,
            "_model_module_version": "1.2.0",
            "_view_count": null,
            "flex_flow": null,
            "width": null,
            "min_width": null,
            "border": null,
            "align_items": null,
            "bottom": null,
            "_model_module": "@jupyter-widgets/base",
            "top": null,
            "grid_column": null,
            "overflow_y": null,
            "overflow_x": null,
            "grid_auto_flow": null,
            "grid_area": null,
            "grid_template_columns": null,
            "flex": null,
            "_model_name": "LayoutModel",
            "justify_items": null,
            "grid_row": null,
            "max_height": null,
            "align_content": null,
            "visibility": null,
            "align_self": null,
            "height": null,
            "min_height": null,
            "padding": null,
            "grid_auto_rows": null,
            "grid_gap": null,
            "max_width": null,
            "order": null,
            "_view_module_version": "1.2.0",
            "grid_template_areas": null,
            "object_position": null,
            "object_fit": null,
            "grid_auto_columns": null,
            "margin": null,
            "display": null,
            "left": null
          }
        },
        "51e3a741da474900ac6d527c30e34656": {
          "model_module": "@jupyter-widgets/controls",
          "model_name": "HTMLModel",
          "model_module_version": "1.5.0",
          "state": {
            "_view_name": "HTMLView",
            "style": "IPY_MODEL_14d27958e7a940908b0b1915500d1219",
            "_dom_classes": [],
            "description": "",
            "_model_name": "HTMLModel",
            "placeholder": "​",
            "_view_module": "@jupyter-widgets/controls",
            "_model_module_version": "1.5.0",
            "value": "",
            "_view_count": null,
            "_view_module_version": "1.5.0",
            "description_tooltip": null,
            "_model_module": "@jupyter-widgets/controls",
            "layout": "IPY_MODEL_f93b86cff48a4fe9b9b221c31c7f39be"
          }
        },
        "0805eda2a0f7471da762239fa60df0e3": {
          "model_module": "@jupyter-widgets/controls",
          "model_name": "FloatProgressModel",
          "model_module_version": "1.5.0",
          "state": {
            "_view_name": "ProgressView",
            "style": "IPY_MODEL_2ea9d6f95272437ba3362b858863421d",
            "_dom_classes": [],
            "description": "",
            "_model_name": "FloatProgressModel",
            "bar_style": "success",
            "max": 28881,
            "_view_module": "@jupyter-widgets/controls",
            "_model_module_version": "1.5.0",
            "value": 28881,
            "_view_count": null,
            "_view_module_version": "1.5.0",
            "orientation": "horizontal",
            "min": 0,
            "description_tooltip": null,
            "_model_module": "@jupyter-widgets/controls",
            "layout": "IPY_MODEL_f8c9f78455b546dbb9fd1f3d328ae1ef"
          }
        },
        "258a0050aab54c768d788055b80cfeeb": {
          "model_module": "@jupyter-widgets/controls",
          "model_name": "HTMLModel",
          "model_module_version": "1.5.0",
          "state": {
            "_view_name": "HTMLView",
            "style": "IPY_MODEL_db5c1f32f93c4cfd9a66b52b1d397a7f",
            "_dom_classes": [],
            "description": "",
            "_model_name": "HTMLModel",
            "placeholder": "​",
            "_view_module": "@jupyter-widgets/controls",
            "_model_module_version": "1.5.0",
            "value": " 29696/? [00:00&lt;00:00, 658187.32it/s]",
            "_view_count": null,
            "_view_module_version": "1.5.0",
            "description_tooltip": null,
            "_model_module": "@jupyter-widgets/controls",
            "layout": "IPY_MODEL_18457421198c456aa50409d9ff0130b9"
          }
        },
        "14d27958e7a940908b0b1915500d1219": {
          "model_module": "@jupyter-widgets/controls",
          "model_name": "DescriptionStyleModel",
          "model_module_version": "1.5.0",
          "state": {
            "_view_name": "StyleView",
            "_model_name": "DescriptionStyleModel",
            "description_width": "",
            "_view_module": "@jupyter-widgets/base",
            "_model_module_version": "1.5.0",
            "_view_count": null,
            "_view_module_version": "1.2.0",
            "_model_module": "@jupyter-widgets/controls"
          }
        },
        "f93b86cff48a4fe9b9b221c31c7f39be": {
          "model_module": "@jupyter-widgets/base",
          "model_name": "LayoutModel",
          "model_module_version": "1.2.0",
          "state": {
            "_view_name": "LayoutView",
            "grid_template_rows": null,
            "right": null,
            "justify_content": null,
            "_view_module": "@jupyter-widgets/base",
            "overflow": null,
            "_model_module_version": "1.2.0",
            "_view_count": null,
            "flex_flow": null,
            "width": null,
            "min_width": null,
            "border": null,
            "align_items": null,
            "bottom": null,
            "_model_module": "@jupyter-widgets/base",
            "top": null,
            "grid_column": null,
            "overflow_y": null,
            "overflow_x": null,
            "grid_auto_flow": null,
            "grid_area": null,
            "grid_template_columns": null,
            "flex": null,
            "_model_name": "LayoutModel",
            "justify_items": null,
            "grid_row": null,
            "max_height": null,
            "align_content": null,
            "visibility": null,
            "align_self": null,
            "height": null,
            "min_height": null,
            "padding": null,
            "grid_auto_rows": null,
            "grid_gap": null,
            "max_width": null,
            "order": null,
            "_view_module_version": "1.2.0",
            "grid_template_areas": null,
            "object_position": null,
            "object_fit": null,
            "grid_auto_columns": null,
            "margin": null,
            "display": null,
            "left": null
          }
        },
        "2ea9d6f95272437ba3362b858863421d": {
          "model_module": "@jupyter-widgets/controls",
          "model_name": "ProgressStyleModel",
          "model_module_version": "1.5.0",
          "state": {
            "_view_name": "StyleView",
            "_model_name": "ProgressStyleModel",
            "description_width": "",
            "_view_module": "@jupyter-widgets/base",
            "_model_module_version": "1.5.0",
            "_view_count": null,
            "_view_module_version": "1.2.0",
            "bar_color": null,
            "_model_module": "@jupyter-widgets/controls"
          }
        },
        "f8c9f78455b546dbb9fd1f3d328ae1ef": {
          "model_module": "@jupyter-widgets/base",
          "model_name": "LayoutModel",
          "model_module_version": "1.2.0",
          "state": {
            "_view_name": "LayoutView",
            "grid_template_rows": null,
            "right": null,
            "justify_content": null,
            "_view_module": "@jupyter-widgets/base",
            "overflow": null,
            "_model_module_version": "1.2.0",
            "_view_count": null,
            "flex_flow": null,
            "width": null,
            "min_width": null,
            "border": null,
            "align_items": null,
            "bottom": null,
            "_model_module": "@jupyter-widgets/base",
            "top": null,
            "grid_column": null,
            "overflow_y": null,
            "overflow_x": null,
            "grid_auto_flow": null,
            "grid_area": null,
            "grid_template_columns": null,
            "flex": null,
            "_model_name": "LayoutModel",
            "justify_items": null,
            "grid_row": null,
            "max_height": null,
            "align_content": null,
            "visibility": null,
            "align_self": null,
            "height": null,
            "min_height": null,
            "padding": null,
            "grid_auto_rows": null,
            "grid_gap": null,
            "max_width": null,
            "order": null,
            "_view_module_version": "1.2.0",
            "grid_template_areas": null,
            "object_position": null,
            "object_fit": null,
            "grid_auto_columns": null,
            "margin": null,
            "display": null,
            "left": null
          }
        },
        "db5c1f32f93c4cfd9a66b52b1d397a7f": {
          "model_module": "@jupyter-widgets/controls",
          "model_name": "DescriptionStyleModel",
          "model_module_version": "1.5.0",
          "state": {
            "_view_name": "StyleView",
            "_model_name": "DescriptionStyleModel",
            "description_width": "",
            "_view_module": "@jupyter-widgets/base",
            "_model_module_version": "1.5.0",
            "_view_count": null,
            "_view_module_version": "1.2.0",
            "_model_module": "@jupyter-widgets/controls"
          }
        },
        "18457421198c456aa50409d9ff0130b9": {
          "model_module": "@jupyter-widgets/base",
          "model_name": "LayoutModel",
          "model_module_version": "1.2.0",
          "state": {
            "_view_name": "LayoutView",
            "grid_template_rows": null,
            "right": null,
            "justify_content": null,
            "_view_module": "@jupyter-widgets/base",
            "overflow": null,
            "_model_module_version": "1.2.0",
            "_view_count": null,
            "flex_flow": null,
            "width": null,
            "min_width": null,
            "border": null,
            "align_items": null,
            "bottom": null,
            "_model_module": "@jupyter-widgets/base",
            "top": null,
            "grid_column": null,
            "overflow_y": null,
            "overflow_x": null,
            "grid_auto_flow": null,
            "grid_area": null,
            "grid_template_columns": null,
            "flex": null,
            "_model_name": "LayoutModel",
            "justify_items": null,
            "grid_row": null,
            "max_height": null,
            "align_content": null,
            "visibility": null,
            "align_self": null,
            "height": null,
            "min_height": null,
            "padding": null,
            "grid_auto_rows": null,
            "grid_gap": null,
            "max_width": null,
            "order": null,
            "_view_module_version": "1.2.0",
            "grid_template_areas": null,
            "object_position": null,
            "object_fit": null,
            "grid_auto_columns": null,
            "margin": null,
            "display": null,
            "left": null
          }
        },
        "8229ad7cdfcb451f841cd49f51400289": {
          "model_module": "@jupyter-widgets/controls",
          "model_name": "HBoxModel",
          "model_module_version": "1.5.0",
          "state": {
            "_view_name": "HBoxView",
            "_dom_classes": [],
            "_model_name": "HBoxModel",
            "_view_module": "@jupyter-widgets/controls",
            "_model_module_version": "1.5.0",
            "_view_count": null,
            "_view_module_version": "1.5.0",
            "box_style": "",
            "layout": "IPY_MODEL_0739042e0b1a4d3caf7b9f3974f6d78a",
            "_model_module": "@jupyter-widgets/controls",
            "children": [
              "IPY_MODEL_1ae28d93a61542a3952624cbe8c67ef5",
              "IPY_MODEL_65d34fe0b7d64283b2191b8d2a2959d0",
              "IPY_MODEL_eb7789526d7045c99c2a5eaa5721b052"
            ]
          }
        },
        "0739042e0b1a4d3caf7b9f3974f6d78a": {
          "model_module": "@jupyter-widgets/base",
          "model_name": "LayoutModel",
          "model_module_version": "1.2.0",
          "state": {
            "_view_name": "LayoutView",
            "grid_template_rows": null,
            "right": null,
            "justify_content": null,
            "_view_module": "@jupyter-widgets/base",
            "overflow": null,
            "_model_module_version": "1.2.0",
            "_view_count": null,
            "flex_flow": null,
            "width": null,
            "min_width": null,
            "border": null,
            "align_items": null,
            "bottom": null,
            "_model_module": "@jupyter-widgets/base",
            "top": null,
            "grid_column": null,
            "overflow_y": null,
            "overflow_x": null,
            "grid_auto_flow": null,
            "grid_area": null,
            "grid_template_columns": null,
            "flex": null,
            "_model_name": "LayoutModel",
            "justify_items": null,
            "grid_row": null,
            "max_height": null,
            "align_content": null,
            "visibility": null,
            "align_self": null,
            "height": null,
            "min_height": null,
            "padding": null,
            "grid_auto_rows": null,
            "grid_gap": null,
            "max_width": null,
            "order": null,
            "_view_module_version": "1.2.0",
            "grid_template_areas": null,
            "object_position": null,
            "object_fit": null,
            "grid_auto_columns": null,
            "margin": null,
            "display": null,
            "left": null
          }
        },
        "1ae28d93a61542a3952624cbe8c67ef5": {
          "model_module": "@jupyter-widgets/controls",
          "model_name": "HTMLModel",
          "model_module_version": "1.5.0",
          "state": {
            "_view_name": "HTMLView",
            "style": "IPY_MODEL_59ad52e8942c408cb0e149a763d7f2b8",
            "_dom_classes": [],
            "description": "",
            "_model_name": "HTMLModel",
            "placeholder": "​",
            "_view_module": "@jupyter-widgets/controls",
            "_model_module_version": "1.5.0",
            "value": "",
            "_view_count": null,
            "_view_module_version": "1.5.0",
            "description_tooltip": null,
            "_model_module": "@jupyter-widgets/controls",
            "layout": "IPY_MODEL_d810d11624a44c649afc5f9cee74e6d5"
          }
        },
        "65d34fe0b7d64283b2191b8d2a2959d0": {
          "model_module": "@jupyter-widgets/controls",
          "model_name": "FloatProgressModel",
          "model_module_version": "1.5.0",
          "state": {
            "_view_name": "ProgressView",
            "style": "IPY_MODEL_a5f777e020294e1d9e264a64ecf24d96",
            "_dom_classes": [],
            "description": "",
            "_model_name": "FloatProgressModel",
            "bar_style": "success",
            "max": 1648877,
            "_view_module": "@jupyter-widgets/controls",
            "_model_module_version": "1.5.0",
            "value": 1648877,
            "_view_count": null,
            "_view_module_version": "1.5.0",
            "orientation": "horizontal",
            "min": 0,
            "description_tooltip": null,
            "_model_module": "@jupyter-widgets/controls",
            "layout": "IPY_MODEL_18529516be30497fab9b8c471b97674f"
          }
        },
        "eb7789526d7045c99c2a5eaa5721b052": {
          "model_module": "@jupyter-widgets/controls",
          "model_name": "HTMLModel",
          "model_module_version": "1.5.0",
          "state": {
            "_view_name": "HTMLView",
            "style": "IPY_MODEL_4a9b5549ec0d4f1dae9b60563e3935c3",
            "_dom_classes": [],
            "description": "",
            "_model_name": "HTMLModel",
            "placeholder": "​",
            "_view_module": "@jupyter-widgets/controls",
            "_model_module_version": "1.5.0",
            "value": " 1649664/? [00:00&lt;00:00, 15093198.63it/s]",
            "_view_count": null,
            "_view_module_version": "1.5.0",
            "description_tooltip": null,
            "_model_module": "@jupyter-widgets/controls",
            "layout": "IPY_MODEL_5d0c131887a845dd960395b2a6d9c3e9"
          }
        },
        "59ad52e8942c408cb0e149a763d7f2b8": {
          "model_module": "@jupyter-widgets/controls",
          "model_name": "DescriptionStyleModel",
          "model_module_version": "1.5.0",
          "state": {
            "_view_name": "StyleView",
            "_model_name": "DescriptionStyleModel",
            "description_width": "",
            "_view_module": "@jupyter-widgets/base",
            "_model_module_version": "1.5.0",
            "_view_count": null,
            "_view_module_version": "1.2.0",
            "_model_module": "@jupyter-widgets/controls"
          }
        },
        "d810d11624a44c649afc5f9cee74e6d5": {
          "model_module": "@jupyter-widgets/base",
          "model_name": "LayoutModel",
          "model_module_version": "1.2.0",
          "state": {
            "_view_name": "LayoutView",
            "grid_template_rows": null,
            "right": null,
            "justify_content": null,
            "_view_module": "@jupyter-widgets/base",
            "overflow": null,
            "_model_module_version": "1.2.0",
            "_view_count": null,
            "flex_flow": null,
            "width": null,
            "min_width": null,
            "border": null,
            "align_items": null,
            "bottom": null,
            "_model_module": "@jupyter-widgets/base",
            "top": null,
            "grid_column": null,
            "overflow_y": null,
            "overflow_x": null,
            "grid_auto_flow": null,
            "grid_area": null,
            "grid_template_columns": null,
            "flex": null,
            "_model_name": "LayoutModel",
            "justify_items": null,
            "grid_row": null,
            "max_height": null,
            "align_content": null,
            "visibility": null,
            "align_self": null,
            "height": null,
            "min_height": null,
            "padding": null,
            "grid_auto_rows": null,
            "grid_gap": null,
            "max_width": null,
            "order": null,
            "_view_module_version": "1.2.0",
            "grid_template_areas": null,
            "object_position": null,
            "object_fit": null,
            "grid_auto_columns": null,
            "margin": null,
            "display": null,
            "left": null
          }
        },
        "a5f777e020294e1d9e264a64ecf24d96": {
          "model_module": "@jupyter-widgets/controls",
          "model_name": "ProgressStyleModel",
          "model_module_version": "1.5.0",
          "state": {
            "_view_name": "StyleView",
            "_model_name": "ProgressStyleModel",
            "description_width": "",
            "_view_module": "@jupyter-widgets/base",
            "_model_module_version": "1.5.0",
            "_view_count": null,
            "_view_module_version": "1.2.0",
            "bar_color": null,
            "_model_module": "@jupyter-widgets/controls"
          }
        },
        "18529516be30497fab9b8c471b97674f": {
          "model_module": "@jupyter-widgets/base",
          "model_name": "LayoutModel",
          "model_module_version": "1.2.0",
          "state": {
            "_view_name": "LayoutView",
            "grid_template_rows": null,
            "right": null,
            "justify_content": null,
            "_view_module": "@jupyter-widgets/base",
            "overflow": null,
            "_model_module_version": "1.2.0",
            "_view_count": null,
            "flex_flow": null,
            "width": null,
            "min_width": null,
            "border": null,
            "align_items": null,
            "bottom": null,
            "_model_module": "@jupyter-widgets/base",
            "top": null,
            "grid_column": null,
            "overflow_y": null,
            "overflow_x": null,
            "grid_auto_flow": null,
            "grid_area": null,
            "grid_template_columns": null,
            "flex": null,
            "_model_name": "LayoutModel",
            "justify_items": null,
            "grid_row": null,
            "max_height": null,
            "align_content": null,
            "visibility": null,
            "align_self": null,
            "height": null,
            "min_height": null,
            "padding": null,
            "grid_auto_rows": null,
            "grid_gap": null,
            "max_width": null,
            "order": null,
            "_view_module_version": "1.2.0",
            "grid_template_areas": null,
            "object_position": null,
            "object_fit": null,
            "grid_auto_columns": null,
            "margin": null,
            "display": null,
            "left": null
          }
        },
        "4a9b5549ec0d4f1dae9b60563e3935c3": {
          "model_module": "@jupyter-widgets/controls",
          "model_name": "DescriptionStyleModel",
          "model_module_version": "1.5.0",
          "state": {
            "_view_name": "StyleView",
            "_model_name": "DescriptionStyleModel",
            "description_width": "",
            "_view_module": "@jupyter-widgets/base",
            "_model_module_version": "1.5.0",
            "_view_count": null,
            "_view_module_version": "1.2.0",
            "_model_module": "@jupyter-widgets/controls"
          }
        },
        "5d0c131887a845dd960395b2a6d9c3e9": {
          "model_module": "@jupyter-widgets/base",
          "model_name": "LayoutModel",
          "model_module_version": "1.2.0",
          "state": {
            "_view_name": "LayoutView",
            "grid_template_rows": null,
            "right": null,
            "justify_content": null,
            "_view_module": "@jupyter-widgets/base",
            "overflow": null,
            "_model_module_version": "1.2.0",
            "_view_count": null,
            "flex_flow": null,
            "width": null,
            "min_width": null,
            "border": null,
            "align_items": null,
            "bottom": null,
            "_model_module": "@jupyter-widgets/base",
            "top": null,
            "grid_column": null,
            "overflow_y": null,
            "overflow_x": null,
            "grid_auto_flow": null,
            "grid_area": null,
            "grid_template_columns": null,
            "flex": null,
            "_model_name": "LayoutModel",
            "justify_items": null,
            "grid_row": null,
            "max_height": null,
            "align_content": null,
            "visibility": null,
            "align_self": null,
            "height": null,
            "min_height": null,
            "padding": null,
            "grid_auto_rows": null,
            "grid_gap": null,
            "max_width": null,
            "order": null,
            "_view_module_version": "1.2.0",
            "grid_template_areas": null,
            "object_position": null,
            "object_fit": null,
            "grid_auto_columns": null,
            "margin": null,
            "display": null,
            "left": null
          }
        },
        "22519377162f494ebc315deb811fe4c5": {
          "model_module": "@jupyter-widgets/controls",
          "model_name": "HBoxModel",
          "model_module_version": "1.5.0",
          "state": {
            "_view_name": "HBoxView",
            "_dom_classes": [],
            "_model_name": "HBoxModel",
            "_view_module": "@jupyter-widgets/controls",
            "_model_module_version": "1.5.0",
            "_view_count": null,
            "_view_module_version": "1.5.0",
            "box_style": "",
            "layout": "IPY_MODEL_b8855672145b498ab65b8e319a22ba9c",
            "_model_module": "@jupyter-widgets/controls",
            "children": [
              "IPY_MODEL_a60876acbcfb4bdd807776abaa5ca16c",
              "IPY_MODEL_327a5867a6934b49be83c838ca07a171",
              "IPY_MODEL_e69ca6ea86fc4b88adcf5bac0579e187"
            ]
          }
        },
        "b8855672145b498ab65b8e319a22ba9c": {
          "model_module": "@jupyter-widgets/base",
          "model_name": "LayoutModel",
          "model_module_version": "1.2.0",
          "state": {
            "_view_name": "LayoutView",
            "grid_template_rows": null,
            "right": null,
            "justify_content": null,
            "_view_module": "@jupyter-widgets/base",
            "overflow": null,
            "_model_module_version": "1.2.0",
            "_view_count": null,
            "flex_flow": null,
            "width": null,
            "min_width": null,
            "border": null,
            "align_items": null,
            "bottom": null,
            "_model_module": "@jupyter-widgets/base",
            "top": null,
            "grid_column": null,
            "overflow_y": null,
            "overflow_x": null,
            "grid_auto_flow": null,
            "grid_area": null,
            "grid_template_columns": null,
            "flex": null,
            "_model_name": "LayoutModel",
            "justify_items": null,
            "grid_row": null,
            "max_height": null,
            "align_content": null,
            "visibility": null,
            "align_self": null,
            "height": null,
            "min_height": null,
            "padding": null,
            "grid_auto_rows": null,
            "grid_gap": null,
            "max_width": null,
            "order": null,
            "_view_module_version": "1.2.0",
            "grid_template_areas": null,
            "object_position": null,
            "object_fit": null,
            "grid_auto_columns": null,
            "margin": null,
            "display": null,
            "left": null
          }
        },
        "a60876acbcfb4bdd807776abaa5ca16c": {
          "model_module": "@jupyter-widgets/controls",
          "model_name": "HTMLModel",
          "model_module_version": "1.5.0",
          "state": {
            "_view_name": "HTMLView",
            "style": "IPY_MODEL_43681ec15d5943fb803d43c7c3f350e3",
            "_dom_classes": [],
            "description": "",
            "_model_name": "HTMLModel",
            "placeholder": "​",
            "_view_module": "@jupyter-widgets/controls",
            "_model_module_version": "1.5.0",
            "value": "",
            "_view_count": null,
            "_view_module_version": "1.5.0",
            "description_tooltip": null,
            "_model_module": "@jupyter-widgets/controls",
            "layout": "IPY_MODEL_7c5a1da5c50c45df852299b0f0930f0d"
          }
        },
        "327a5867a6934b49be83c838ca07a171": {
          "model_module": "@jupyter-widgets/controls",
          "model_name": "FloatProgressModel",
          "model_module_version": "1.5.0",
          "state": {
            "_view_name": "ProgressView",
            "style": "IPY_MODEL_cd03352093bf4b91b54df64df77f99af",
            "_dom_classes": [],
            "description": "",
            "_model_name": "FloatProgressModel",
            "bar_style": "success",
            "max": 4542,
            "_view_module": "@jupyter-widgets/controls",
            "_model_module_version": "1.5.0",
            "value": 4542,
            "_view_count": null,
            "_view_module_version": "1.5.0",
            "orientation": "horizontal",
            "min": 0,
            "description_tooltip": null,
            "_model_module": "@jupyter-widgets/controls",
            "layout": "IPY_MODEL_050af983dbf848209fd146df9439b37e"
          }
        },
        "e69ca6ea86fc4b88adcf5bac0579e187": {
          "model_module": "@jupyter-widgets/controls",
          "model_name": "HTMLModel",
          "model_module_version": "1.5.0",
          "state": {
            "_view_name": "HTMLView",
            "style": "IPY_MODEL_57401aac0fc64445b7c7232f4c604018",
            "_dom_classes": [],
            "description": "",
            "_model_name": "HTMLModel",
            "placeholder": "​",
            "_view_module": "@jupyter-widgets/controls",
            "_model_module_version": "1.5.0",
            "value": " 5120/? [00:00&lt;00:00, 144248.40it/s]",
            "_view_count": null,
            "_view_module_version": "1.5.0",
            "description_tooltip": null,
            "_model_module": "@jupyter-widgets/controls",
            "layout": "IPY_MODEL_1b68614f0d494a8d9c154bb146d3ed23"
          }
        },
        "43681ec15d5943fb803d43c7c3f350e3": {
          "model_module": "@jupyter-widgets/controls",
          "model_name": "DescriptionStyleModel",
          "model_module_version": "1.5.0",
          "state": {
            "_view_name": "StyleView",
            "_model_name": "DescriptionStyleModel",
            "description_width": "",
            "_view_module": "@jupyter-widgets/base",
            "_model_module_version": "1.5.0",
            "_view_count": null,
            "_view_module_version": "1.2.0",
            "_model_module": "@jupyter-widgets/controls"
          }
        },
        "7c5a1da5c50c45df852299b0f0930f0d": {
          "model_module": "@jupyter-widgets/base",
          "model_name": "LayoutModel",
          "model_module_version": "1.2.0",
          "state": {
            "_view_name": "LayoutView",
            "grid_template_rows": null,
            "right": null,
            "justify_content": null,
            "_view_module": "@jupyter-widgets/base",
            "overflow": null,
            "_model_module_version": "1.2.0",
            "_view_count": null,
            "flex_flow": null,
            "width": null,
            "min_width": null,
            "border": null,
            "align_items": null,
            "bottom": null,
            "_model_module": "@jupyter-widgets/base",
            "top": null,
            "grid_column": null,
            "overflow_y": null,
            "overflow_x": null,
            "grid_auto_flow": null,
            "grid_area": null,
            "grid_template_columns": null,
            "flex": null,
            "_model_name": "LayoutModel",
            "justify_items": null,
            "grid_row": null,
            "max_height": null,
            "align_content": null,
            "visibility": null,
            "align_self": null,
            "height": null,
            "min_height": null,
            "padding": null,
            "grid_auto_rows": null,
            "grid_gap": null,
            "max_width": null,
            "order": null,
            "_view_module_version": "1.2.0",
            "grid_template_areas": null,
            "object_position": null,
            "object_fit": null,
            "grid_auto_columns": null,
            "margin": null,
            "display": null,
            "left": null
          }
        },
        "cd03352093bf4b91b54df64df77f99af": {
          "model_module": "@jupyter-widgets/controls",
          "model_name": "ProgressStyleModel",
          "model_module_version": "1.5.0",
          "state": {
            "_view_name": "StyleView",
            "_model_name": "ProgressStyleModel",
            "description_width": "",
            "_view_module": "@jupyter-widgets/base",
            "_model_module_version": "1.5.0",
            "_view_count": null,
            "_view_module_version": "1.2.0",
            "bar_color": null,
            "_model_module": "@jupyter-widgets/controls"
          }
        },
        "050af983dbf848209fd146df9439b37e": {
          "model_module": "@jupyter-widgets/base",
          "model_name": "LayoutModel",
          "model_module_version": "1.2.0",
          "state": {
            "_view_name": "LayoutView",
            "grid_template_rows": null,
            "right": null,
            "justify_content": null,
            "_view_module": "@jupyter-widgets/base",
            "overflow": null,
            "_model_module_version": "1.2.0",
            "_view_count": null,
            "flex_flow": null,
            "width": null,
            "min_width": null,
            "border": null,
            "align_items": null,
            "bottom": null,
            "_model_module": "@jupyter-widgets/base",
            "top": null,
            "grid_column": null,
            "overflow_y": null,
            "overflow_x": null,
            "grid_auto_flow": null,
            "grid_area": null,
            "grid_template_columns": null,
            "flex": null,
            "_model_name": "LayoutModel",
            "justify_items": null,
            "grid_row": null,
            "max_height": null,
            "align_content": null,
            "visibility": null,
            "align_self": null,
            "height": null,
            "min_height": null,
            "padding": null,
            "grid_auto_rows": null,
            "grid_gap": null,
            "max_width": null,
            "order": null,
            "_view_module_version": "1.2.0",
            "grid_template_areas": null,
            "object_position": null,
            "object_fit": null,
            "grid_auto_columns": null,
            "margin": null,
            "display": null,
            "left": null
          }
        },
        "57401aac0fc64445b7c7232f4c604018": {
          "model_module": "@jupyter-widgets/controls",
          "model_name": "DescriptionStyleModel",
          "model_module_version": "1.5.0",
          "state": {
            "_view_name": "StyleView",
            "_model_name": "DescriptionStyleModel",
            "description_width": "",
            "_view_module": "@jupyter-widgets/base",
            "_model_module_version": "1.5.0",
            "_view_count": null,
            "_view_module_version": "1.2.0",
            "_model_module": "@jupyter-widgets/controls"
          }
        },
        "1b68614f0d494a8d9c154bb146d3ed23": {
          "model_module": "@jupyter-widgets/base",
          "model_name": "LayoutModel",
          "model_module_version": "1.2.0",
          "state": {
            "_view_name": "LayoutView",
            "grid_template_rows": null,
            "right": null,
            "justify_content": null,
            "_view_module": "@jupyter-widgets/base",
            "overflow": null,
            "_model_module_version": "1.2.0",
            "_view_count": null,
            "flex_flow": null,
            "width": null,
            "min_width": null,
            "border": null,
            "align_items": null,
            "bottom": null,
            "_model_module": "@jupyter-widgets/base",
            "top": null,
            "grid_column": null,
            "overflow_y": null,
            "overflow_x": null,
            "grid_auto_flow": null,
            "grid_area": null,
            "grid_template_columns": null,
            "flex": null,
            "_model_name": "LayoutModel",
            "justify_items": null,
            "grid_row": null,
            "max_height": null,
            "align_content": null,
            "visibility": null,
            "align_self": null,
            "height": null,
            "min_height": null,
            "padding": null,
            "grid_auto_rows": null,
            "grid_gap": null,
            "max_width": null,
            "order": null,
            "_view_module_version": "1.2.0",
            "grid_template_areas": null,
            "object_position": null,
            "object_fit": null,
            "grid_auto_columns": null,
            "margin": null,
            "display": null,
            "left": null
          }
        }
      }
    },
    "accelerator": "GPU"
  },
  "cells": [
    {
      "cell_type": "code",
      "execution_count": 1,
      "metadata": {
        "id": "xtFtR6wM8xk-"
      },
      "outputs": [],
      "source": [
        "import torch\n",
        "import torch.nn as nn\n",
        "import torch.optim as optim\n",
        "import torchvision.datasets as dset\n",
        "import torchvision.transforms as transforms\n",
        "from torch.utils.data import DataLoader\n",
        "from torch.autograd import Variable\n",
        "import matplotlib.pyplot as plt\n",
        "%matplotlib inline\n",
        "import numpy as np"
      ]
    },
    {
      "cell_type": "markdown",
      "source": [
        "# 1. MNIST train, test dataset 가져오기"
      ],
      "metadata": {
        "id": "LHzOB4rk9SW-"
      }
    },
    {
      "cell_type": "code",
      "source": [
        "# \"\": 현재 폴더에 MNIST 있음\n",
        "mnist_train = dset.MNIST(\"\", train = True, transform = transforms.ToTensor(),\n",
        "                         target_transform = None, download = True)\n",
        "mnist_test = dset.MNIST(\"\", train = False, transform = transforms.ToTensor(),\n",
        "                        target_transform = None, download = True)"
      ],
      "metadata": {
        "colab": {
          "base_uri": "https://localhost:8080/",
          "height": 459,
          "referenced_widgets": [
            "4b843958a2844b97be5a7c557cabec4a",
            "1c40e9e66b3b437cbcfd5a84fcc7b81c",
            "8b33ad6e17c04e64886c51a3bb40fa05",
            "6d526ee4fe9a43f69a7dc511cc5fc4b7",
            "42bd775626d44aeda8da91de34f3bc1e",
            "8cf0faadb5cc407ebd3f78f6b5a1dc3b",
            "a05c90f2a35942e59c87b8d31842e607",
            "c8a294a463d544b68044e59ecff279d8",
            "67534f79794746acbd05fb523a0f8f22",
            "c8a8d34779dc4c438cebe25e6d1172f7",
            "f7ffa9e3600c4107a479cf07fac283d6",
            "dc10ab5008ab4f0ba10e908e94d13674",
            "2d7280bf71df431b9d28006ee5fc0aef",
            "51e3a741da474900ac6d527c30e34656",
            "0805eda2a0f7471da762239fa60df0e3",
            "258a0050aab54c768d788055b80cfeeb",
            "14d27958e7a940908b0b1915500d1219",
            "f93b86cff48a4fe9b9b221c31c7f39be",
            "2ea9d6f95272437ba3362b858863421d",
            "f8c9f78455b546dbb9fd1f3d328ae1ef",
            "db5c1f32f93c4cfd9a66b52b1d397a7f",
            "18457421198c456aa50409d9ff0130b9",
            "8229ad7cdfcb451f841cd49f51400289",
            "0739042e0b1a4d3caf7b9f3974f6d78a",
            "1ae28d93a61542a3952624cbe8c67ef5",
            "65d34fe0b7d64283b2191b8d2a2959d0",
            "eb7789526d7045c99c2a5eaa5721b052",
            "59ad52e8942c408cb0e149a763d7f2b8",
            "d810d11624a44c649afc5f9cee74e6d5",
            "a5f777e020294e1d9e264a64ecf24d96",
            "18529516be30497fab9b8c471b97674f",
            "4a9b5549ec0d4f1dae9b60563e3935c3",
            "5d0c131887a845dd960395b2a6d9c3e9",
            "22519377162f494ebc315deb811fe4c5",
            "b8855672145b498ab65b8e319a22ba9c",
            "a60876acbcfb4bdd807776abaa5ca16c",
            "327a5867a6934b49be83c838ca07a171",
            "e69ca6ea86fc4b88adcf5bac0579e187",
            "43681ec15d5943fb803d43c7c3f350e3",
            "7c5a1da5c50c45df852299b0f0930f0d",
            "cd03352093bf4b91b54df64df77f99af",
            "050af983dbf848209fd146df9439b37e",
            "57401aac0fc64445b7c7232f4c604018",
            "1b68614f0d494a8d9c154bb146d3ed23"
          ]
        },
        "id": "MSj9PdAY9Rge",
        "outputId": "3cdede32-b456-4308-e324-f3c3da74fb6f"
      },
      "execution_count": 2,
      "outputs": [
        {
          "output_type": "stream",
          "name": "stdout",
          "text": [
            "Downloading http://yann.lecun.com/exdb/mnist/train-images-idx3-ubyte.gz\n",
            "Downloading http://yann.lecun.com/exdb/mnist/train-images-idx3-ubyte.gz to MNIST/raw/train-images-idx3-ubyte.gz\n"
          ]
        },
        {
          "output_type": "display_data",
          "data": {
            "application/vnd.jupyter.widget-view+json": {
              "model_id": "4b843958a2844b97be5a7c557cabec4a",
              "version_minor": 0,
              "version_major": 2
            },
            "text/plain": [
              "  0%|          | 0/9912422 [00:00<?, ?it/s]"
            ]
          },
          "metadata": {}
        },
        {
          "output_type": "stream",
          "name": "stdout",
          "text": [
            "Extracting MNIST/raw/train-images-idx3-ubyte.gz to MNIST/raw\n",
            "\n",
            "Downloading http://yann.lecun.com/exdb/mnist/train-labels-idx1-ubyte.gz\n",
            "Downloading http://yann.lecun.com/exdb/mnist/train-labels-idx1-ubyte.gz to MNIST/raw/train-labels-idx1-ubyte.gz\n"
          ]
        },
        {
          "output_type": "display_data",
          "data": {
            "application/vnd.jupyter.widget-view+json": {
              "model_id": "dc10ab5008ab4f0ba10e908e94d13674",
              "version_minor": 0,
              "version_major": 2
            },
            "text/plain": [
              "  0%|          | 0/28881 [00:00<?, ?it/s]"
            ]
          },
          "metadata": {}
        },
        {
          "output_type": "stream",
          "name": "stdout",
          "text": [
            "Extracting MNIST/raw/train-labels-idx1-ubyte.gz to MNIST/raw\n",
            "\n",
            "Downloading http://yann.lecun.com/exdb/mnist/t10k-images-idx3-ubyte.gz\n",
            "Downloading http://yann.lecun.com/exdb/mnist/t10k-images-idx3-ubyte.gz to MNIST/raw/t10k-images-idx3-ubyte.gz\n"
          ]
        },
        {
          "output_type": "display_data",
          "data": {
            "application/vnd.jupyter.widget-view+json": {
              "model_id": "8229ad7cdfcb451f841cd49f51400289",
              "version_minor": 0,
              "version_major": 2
            },
            "text/plain": [
              "  0%|          | 0/1648877 [00:00<?, ?it/s]"
            ]
          },
          "metadata": {}
        },
        {
          "output_type": "stream",
          "name": "stdout",
          "text": [
            "Extracting MNIST/raw/t10k-images-idx3-ubyte.gz to MNIST/raw\n",
            "\n",
            "Downloading http://yann.lecun.com/exdb/mnist/t10k-labels-idx1-ubyte.gz\n",
            "Downloading http://yann.lecun.com/exdb/mnist/t10k-labels-idx1-ubyte.gz to MNIST/raw/t10k-labels-idx1-ubyte.gz\n"
          ]
        },
        {
          "output_type": "display_data",
          "data": {
            "application/vnd.jupyter.widget-view+json": {
              "model_id": "22519377162f494ebc315deb811fe4c5",
              "version_minor": 0,
              "version_major": 2
            },
            "text/plain": [
              "  0%|          | 0/4542 [00:00<?, ?it/s]"
            ]
          },
          "metadata": {}
        },
        {
          "output_type": "stream",
          "name": "stdout",
          "text": [
            "Extracting MNIST/raw/t10k-labels-idx1-ubyte.gz to MNIST/raw\n",
            "\n"
          ]
        }
      ]
    },
    {
      "cell_type": "markdown",
      "source": [
        "# 2. 대략적인 데이터 형태"
      ],
      "metadata": {
        "id": "VquFyBpJ9zZx"
      }
    },
    {
      "cell_type": "code",
      "source": [
        "print(\"mnist_train 길이 : \", len(mnist_train))\n",
        "print(\"mnist_test 길이 : \", len(mnist_test))\n",
        "\n",
        "# 데이터 하나 형태\n",
        "image, label = mnist_train.__getitem__(0) # 0번째 데이터\n",
        "print(\"image data 형태 : \", image.size())\n",
        "print(\"label : \", label)\n",
        "\n",
        "# 그리기\n",
        "img = image.numpy() # image 타입을 numpy로 변환 (1, 28, 28)\n",
        "plt.title(\"label : %d\" %label)\n",
        "plt.imshow(img[0], cmap = 'gray')\n",
        "plt.show()"
      ],
      "metadata": {
        "colab": {
          "base_uri": "https://localhost:8080/",
          "height": 354
        },
        "id": "ebbpAE0d9ygX",
        "outputId": "64f00c82-d7bb-44b4-c3d9-e6bc6d742ed0"
      },
      "execution_count": 3,
      "outputs": [
        {
          "output_type": "stream",
          "name": "stdout",
          "text": [
            "mnist_train 길이 :  60000\n",
            "mnist_test 길이 :  10000\n",
            "image data 형태 :  torch.Size([1, 28, 28])\n",
            "label :  5\n"
          ]
        },
        {
          "output_type": "display_data",
          "data": {
            "image/png": "[encoded data removed]",
            "text/plain": [
              "<Figure size 432x288 with 1 Axes>"
            ]
          },
          "metadata": {
            "needs_background": "light"
          }
        }
      ]
    },
    {
      "cell_type": "markdown",
      "source": [
        "# 3. 데이터 로드 함수\n",
        "### 학습시킬 때 batch_size 단위로 끊어서 로드하기 위함"
      ],
      "metadata": {
        "id": "TtePiWE2-X3x"
      }
    },
    {
      "cell_type": "code",
      "source": [
        "# hyper parameters\n",
        "batch_size = 1024\n",
        "learning_rate = 0.01\n",
        "num_epoch = 400"
      ],
      "metadata": {
        "id": "ribRLSEk-Wge"
      },
      "execution_count": 4,
      "outputs": []
    },
    {
      "cell_type": "code",
      "source": [
        "train_loader = torch.utils.data.DataLoader(mnist_train,\n",
        "                                           batch_size = batch_size, # mnist_train을 train시키자\n",
        "                                           shuffle = True, num_workers = 2,\n",
        "                                           drop_last = True) # batch_size 만큼 나눌 때 나머지는 버려라\n",
        "\n",
        "test_loader = torch.utils.data.DataLoader(mnist_test, batch_size = batch_size,\n",
        "                                          shuffle = False, num_workers = 2,\n",
        "                                          drop_last = True)"
      ],
      "metadata": {
        "id": "NRRyZi5Q-l19"
      },
      "execution_count": 5,
      "outputs": []
    },
    {
      "cell_type": "markdown",
      "source": [
        "### 데이터 로드함수 이해하기"
      ],
      "metadata": {
        "id": "ZaZSyByU_GdF"
      }
    },
    {
      "cell_type": "code",
      "source": [
        "n = 3 # 샘플로 그려볼 데이터 개수\n",
        "\n",
        "for i, [imgs, labels] in enumerate(test_loader): # batch_size 만큼\n",
        "  if i > 5:\n",
        "    break\n",
        "\n",
        "  print(\"[%d]\" %i)\n",
        "  print(\"한번에 로드되는 데이터의 크기 : \", len(imgs))\n",
        "\n",
        "  # 그리기\n",
        "  for j in range(n):\n",
        "    img = imgs[j].numpy() # image 타입을 numpy로 변환 (1, 28, 28)\n",
        "    img = img.reshape((img.shape[1], img.shape[2])) # (1, 28, 28) -> (28, 28)\n",
        "    # print(img.shape)\n",
        "\n",
        "    plt.subplot(1, n, j + 1) # (1, 3) 형태 플롯의 j 번째 자리에 그리겠다\n",
        "    plt.imshow(img, cmap = 'gray')\n",
        "    plt.title(\"label : %d\" %labels[j])\n",
        "\n",
        "  plt.show()"
      ],
      "metadata": {
        "colab": {
          "base_uri": "https://localhost:8080/",
          "height": 1000
        },
        "id": "_idftuVB_FBm",
        "outputId": "a747b2de-46d1-4a1f-cbb6-8174c44740e2"
      },
      "execution_count": 6,
      "outputs": [
        {
          "output_type": "stream",
          "name": "stdout",
          "text": [
            "[0]\n",
            "한번에 로드되는 데이터의 크기 :  1024\n"
          ]
        },
        {
          "output_type": "display_data",
          "data": {
            "image/png": "[encoded data removed]",
            "text/plain": [
              "<Figure size 432x288 with 3 Axes>"
            ]
          },
          "metadata": {
            "needs_background": "light"
          }
        },
        {
          "output_type": "stream",
          "name": "stdout",
          "text": [
            "[1]\n",
            "한번에 로드되는 데이터의 크기 :  1024\n"
          ]
        },
        {
          "output_type": "display_data",
          "data": {
            "image/png": "[encoded data removed]",
            "text/plain": [
              "<Figure size 432x288 with 3 Axes>"
            ]
          },
          "metadata": {
            "needs_background": "light"
          }
        },
        {
          "output_type": "stream",
          "name": "stdout",
          "text": [
            "[2]\n",
            "한번에 로드되는 데이터의 크기 :  1024\n"
          ]
        },
        {
          "output_type": "display_data",
          "data": {
            "image/png": "[encoded data removed]",
            "text/plain": [
              "<Figure size 432x288 with 3 Axes>"
            ]
          },
          "metadata": {
            "needs_background": "light"
          }
        },
        {
          "output_type": "stream",
          "name": "stdout",
          "text": [
            "[3]\n",
            "한번에 로드되는 데이터의 크기 :  1024\n"
          ]
        },
        {
          "output_type": "display_data",
          "data": {
            "image/png": "[encoded data removed]",
            "text/plain": [
              "<Figure size 432x288 with 3 Axes>"
            ]
          },
          "metadata": {
            "needs_background": "light"
          }
        },
        {
          "output_type": "stream",
          "name": "stdout",
          "text": [
            "[4]\n",
            "한번에 로드되는 데이터의 크기 :  1024\n"
          ]
        },
        {
          "output_type": "display_data",
          "data": {
            "image/png": "[encoded data removed]",
            "text/plain": [
              "<Figure size 432x288 with 3 Axes>"
            ]
          },
          "metadata": {
            "needs_background": "light"
          }
        },
        {
          "output_type": "stream",
          "name": "stdout",
          "text": [
            "[5]\n",
            "한번에 로드되는 데이터의 크기 :  1024\n"
          ]
        },
        {
          "output_type": "display_data",
          "data": {
            "image/png": "[encoded data removed]",
            "text/plain": [
              "<Figure size 432x288 with 3 Axes>"
            ]
          },
          "metadata": {
            "needs_background": "light"
          }
        }
      ]
    },
    {
      "cell_type": "markdown",
      "source": [
        "# 4. 모델 선언"
      ],
      "metadata": {
        "id": "ARlenV7h_7ZY"
      }
    },
    {
      "cell_type": "code",
      "source": [
        "# 모델 선언\n",
        "# * 퍼셉트론(2 hidden layer) *\n",
        "model = nn.Sequential(\n",
        "    nn.Linear(28 * 28, 256),\n",
        "    nn.Sigmoid(),\n",
        "    nn.Linear(256, 128),\n",
        "    nn.Linear(128, 10)\n",
        ")\n",
        "\n",
        "# 파라미터 보기\n",
        "print(list(model.parameters())) # 초기 파라미터 출력"
      ],
      "metadata": {
        "colab": {
          "base_uri": "https://localhost:8080/"
        },
        "id": "OG8Vcktd_149",
        "outputId": "0a4c47fa-1e60-4ee8-d5fb-ce1e92200776"
      },
      "execution_count": 7,
      "outputs": [
        {
          "output_type": "stream",
          "name": "stdout",
          "text": [
            "[Parameter containing:\n",
            "tensor([[ 0.0223, -0.0333, -0.0054,  ...,  0.0154,  0.0027, -0.0090],\n",
            "        [-0.0122, -0.0202,  0.0295,  ..., -0.0092,  0.0317,  0.0136],\n",
            "        [ 0.0084,  0.0154,  0.0297,  ..., -0.0031, -0.0305,  0.0211],\n",
            "        ...,\n",
            "        [ 0.0199, -0.0167,  0.0264,  ..., -0.0339,  0.0318,  0.0313],\n",
            "        [-0.0121, -0.0014,  0.0140,  ...,  0.0165, -0.0056,  0.0256],\n",
            "        [ 0.0029, -0.0238, -0.0344,  ..., -0.0141,  0.0355,  0.0197]],\n",
            "       requires_grad=True), Parameter containing:\n",
            "tensor([-2.9488e-02, -2.2879e-02,  2.5656e-02, -3.2144e-02,  1.1184e-02,\n",
            "        -1.5162e-02,  2.7713e-02, -3.1032e-02, -1.6269e-02,  3.2677e-02,\n",
            "        -1.2067e-02,  3.3871e-02, -2.1379e-02,  3.2783e-02,  1.3441e-03,\n",
            "         2.4408e-02, -2.9921e-02,  2.0409e-03, -7.8817e-03, -2.7116e-02,\n",
            "        -1.6563e-02, -2.7556e-03, -6.6665e-03, -1.8132e-02,  1.9928e-02,\n",
            "         1.1672e-02,  2.9204e-02, -2.0765e-02, -2.3907e-02,  2.8959e-02,\n",
            "        -3.0904e-02,  4.7324e-03,  4.8436e-03, -8.8573e-03,  2.4609e-02,\n",
            "        -3.4450e-02, -1.4827e-02,  2.9925e-02,  3.4628e-02,  1.2687e-03,\n",
            "        -3.7783e-03,  3.3836e-02, -3.0766e-02, -1.5596e-02, -3.0523e-02,\n",
            "         2.4662e-02,  1.2770e-02,  9.4700e-03, -2.7021e-02, -2.4098e-02,\n",
            "         2.3199e-02, -1.4376e-02,  4.5814e-03,  2.7206e-02, -1.6886e-02,\n",
            "        -1.2470e-02,  1.2201e-02,  1.7249e-02, -1.4998e-02,  2.9834e-02,\n",
            "         3.8979e-03, -1.9185e-02,  1.9916e-03, -2.8194e-02,  1.4870e-02,\n",
            "        -1.2518e-02, -1.3438e-02, -2.4306e-02,  1.0100e-02, -3.1108e-02,\n",
            "        -8.7492e-04,  2.0991e-02, -1.9399e-02,  1.7373e-02,  3.3324e-02,\n",
            "        -2.2246e-02,  5.5575e-03,  3.3127e-02, -3.0270e-02,  1.4371e-02,\n",
            "        -3.3864e-02, -1.3912e-02,  1.1317e-02,  3.0057e-02,  3.9689e-04,\n",
            "        -1.4849e-02, -1.5916e-02,  2.2591e-03,  3.3216e-02, -9.5528e-03,\n",
            "         1.8142e-02,  2.5454e-03,  1.7244e-02, -4.7851e-03,  1.9115e-02,\n",
            "        -4.4209e-04, -1.0363e-02,  1.8033e-02, -1.0534e-02, -2.6085e-02,\n",
            "        -2.5032e-02,  2.8972e-02,  3.4769e-02, -3.2737e-02,  8.7487e-03,\n",
            "         3.3240e-02, -2.4262e-02, -2.3433e-03, -2.4001e-02,  3.0206e-03,\n",
            "        -2.4404e-02,  9.6482e-03,  1.0655e-02, -2.9709e-02, -1.3066e-02,\n",
            "         2.6656e-02,  2.8653e-02, -2.0783e-03, -3.3812e-02, -2.7491e-02,\n",
            "        -1.5563e-02, -3.2612e-02, -1.0419e-02, -3.0032e-02,  5.6393e-03,\n",
            "        -4.9723e-03,  1.4206e-02, -5.8567e-03,  1.9789e-02,  2.7532e-02,\n",
            "         3.4279e-02,  2.6567e-02, -2.7923e-02,  3.8574e-03, -1.1004e-02,\n",
            "        -3.2440e-02,  4.0203e-03,  1.2770e-04, -4.4056e-03, -1.8086e-02,\n",
            "        -6.7712e-03, -2.8030e-02, -5.6804e-03,  1.5394e-02,  7.3206e-03,\n",
            "         2.3242e-02,  2.4338e-02,  2.5668e-02, -1.6287e-03,  2.0813e-02,\n",
            "         6.2836e-03, -3.2519e-02, -3.3188e-02,  3.4200e-02,  3.1598e-02,\n",
            "         3.0728e-02,  1.8755e-02,  1.4929e-03,  9.3651e-03,  2.6935e-02,\n",
            "         1.0264e-02,  1.9778e-02,  2.9634e-02, -3.4294e-02, -8.8971e-03,\n",
            "        -1.2553e-02,  1.2620e-02, -1.3763e-03,  3.8339e-03, -5.6790e-04,\n",
            "        -2.0207e-02, -1.1357e-02,  2.2357e-02, -4.4498e-03,  3.0850e-02,\n",
            "        -5.2426e-03,  6.5444e-03, -6.8517e-03,  3.3018e-02, -1.6219e-02,\n",
            "        -3.0604e-02,  1.7373e-02,  3.3376e-02,  2.3362e-02, -4.0832e-03,\n",
            "        -2.8358e-02,  9.2170e-03,  1.9993e-02,  1.4765e-02,  3.0163e-02,\n",
            "         1.5623e-02, -2.2467e-02,  1.4488e-02, -4.5422e-03, -2.0266e-02,\n",
            "         1.1868e-02,  1.5710e-02,  3.4402e-03,  9.2911e-03,  1.9879e-02,\n",
            "        -7.0114e-03,  3.3346e-02,  2.9605e-02, -1.3837e-02,  3.2579e-02,\n",
            "         3.0323e-02,  2.9761e-02, -2.2836e-02,  1.9194e-02,  1.6400e-02,\n",
            "         1.4406e-02, -1.3871e-02, -2.8551e-02, -6.0950e-03,  1.1658e-02,\n",
            "        -1.6329e-02,  2.7702e-02, -1.7835e-02,  8.6367e-03,  7.1238e-03,\n",
            "        -1.6077e-02,  1.7952e-02,  5.9299e-04,  2.9324e-02,  2.9224e-02,\n",
            "        -1.0432e-02,  8.9309e-03, -1.8057e-02, -7.5772e-03,  1.6875e-02,\n",
            "        -2.9836e-02, -1.8076e-02, -3.1266e-02,  2.4148e-02,  8.2404e-03,\n",
            "        -2.4061e-02, -5.5978e-03,  4.5493e-03,  1.5180e-02, -2.5009e-02,\n",
            "         1.4658e-02,  3.1692e-02,  3.0041e-02, -3.0629e-02,  3.4843e-02,\n",
            "        -1.1815e-02,  1.6075e-02, -3.5377e-02,  2.9730e-05,  5.5068e-03,\n",
            "         2.9945e-02, -1.8045e-02, -2.2599e-02, -7.5202e-03, -3.4518e-02,\n",
            "         6.3425e-03], requires_grad=True), Parameter containing:\n",
            "tensor([[-0.0403, -0.0606, -0.0290,  ..., -0.0596, -0.0443,  0.0352],\n",
            "        [ 0.0281,  0.0532, -0.0014,  ...,  0.0283, -0.0140, -0.0570],\n",
            "        [-0.0519, -0.0533,  0.0537,  ..., -0.0134, -0.0002,  0.0363],\n",
            "        ...,\n",
            "        [ 0.0249,  0.0214, -0.0271,  ..., -0.0201, -0.0278,  0.0302],\n",
            "        [ 0.0588, -0.0081, -0.0494,  ...,  0.0063, -0.0522,  0.0502],\n",
            "        [-0.0558,  0.0284,  0.0620,  ...,  0.0573,  0.0534,  0.0510]],\n",
            "       requires_grad=True), Parameter containing:\n",
            "tensor([-0.0128,  0.0176, -0.0131, -0.0317, -0.0032, -0.0496,  0.0098, -0.0553,\n",
            "        -0.0263, -0.0518,  0.0055,  0.0038, -0.0156,  0.0595,  0.0167,  0.0392,\n",
            "        -0.0380,  0.0468, -0.0161, -0.0234, -0.0570, -0.0437,  0.0189, -0.0530,\n",
            "        -0.0096,  0.0278,  0.0303, -0.0272, -0.0558,  0.0357,  0.0082,  0.0036,\n",
            "        -0.0132,  0.0099,  0.0131,  0.0470, -0.0036,  0.0301,  0.0602,  0.0220,\n",
            "         0.0171,  0.0185,  0.0096,  0.0553,  0.0323,  0.0594, -0.0311, -0.0450,\n",
            "        -0.0037,  0.0415, -0.0352, -0.0519,  0.0320,  0.0526,  0.0102, -0.0371,\n",
            "         0.0331, -0.0624, -0.0034,  0.0253, -0.0195,  0.0057, -0.0461, -0.0313,\n",
            "        -0.0067,  0.0386,  0.0120, -0.0513,  0.0100, -0.0031, -0.0384, -0.0155,\n",
            "         0.0073,  0.0180, -0.0360, -0.0489, -0.0094, -0.0394, -0.0133,  0.0368,\n",
            "         0.0071, -0.0396, -0.0366,  0.0262, -0.0562,  0.0252,  0.0395,  0.0022,\n",
            "         0.0190,  0.0534,  0.0320,  0.0168, -0.0589, -0.0497, -0.0112,  0.0445,\n",
            "        -0.0175, -0.0414,  0.0489,  0.0530, -0.0387, -0.0297, -0.0153,  0.0022,\n",
            "        -0.0091, -0.0199, -0.0417,  0.0545, -0.0192, -0.0455,  0.0088,  0.0257,\n",
            "         0.0121, -0.0444, -0.0589,  0.0162,  0.0179, -0.0090,  0.0383, -0.0385,\n",
            "        -0.0522, -0.0163,  0.0527,  0.0385, -0.0493, -0.0369, -0.0568,  0.0241],\n",
            "       requires_grad=True), Parameter containing:\n",
            "tensor([[-0.0504,  0.0624, -0.0763,  ...,  0.0176, -0.0209,  0.0061],\n",
            "        [-0.0476, -0.0788,  0.0111,  ..., -0.0838, -0.0644, -0.0392],\n",
            "        [-0.0420, -0.0371,  0.0831,  ..., -0.0401, -0.0575, -0.0821],\n",
            "        ...,\n",
            "        [-0.0466,  0.0669, -0.0011,  ..., -0.0169, -0.0344, -0.0393],\n",
            "        [-0.0150,  0.0230, -0.0637,  ...,  0.0677, -0.0336,  0.0245],\n",
            "        [ 0.0240, -0.0255,  0.0615,  ...,  0.0486,  0.0380, -0.0262]],\n",
            "       requires_grad=True), Parameter containing:\n",
            "tensor([ 0.0213, -0.0695,  0.0353, -0.0389, -0.0175,  0.0659,  0.0879, -0.0756,\n",
            "        -0.0478, -0.0165], requires_grad=True)]\n"
          ]
        }
      ]
    },
    {
      "cell_type": "code",
      "source": [
        "model = model.cuda()"
      ],
      "metadata": {
        "id": "GmAiafqDASp9"
      },
      "execution_count": 8,
      "outputs": []
    },
    {
      "cell_type": "code",
      "source": [
        "def ComputeAccr(dloader, imodel):\n",
        "  correct = 0\n",
        "  total = 0\n",
        "\n",
        "  for j, [imgs, labels] in enumerate(dloader): # batch_size 만큼\n",
        "    img = imgs # x\n",
        "    # label = Variable(labels) # y\n",
        "    label = Variable(labels).cuda()\n",
        "    # .cuda() : GPU에 로드하기 위함. 만약 CPU로 설정되어 있다면 에러남\n",
        "\n",
        "    # (batch_size, 1, 28, 28) -> (batch_size, 28, 28)\n",
        "    img = img.reshape((img.shape[0], img.shape[2], img.shape[3]))\n",
        "    # (batch_size, 28, 28) -> (batch_size, 28 * 28)\n",
        "    img = img.reshape((img.shape[0], img.shape[1] * img.shape[2]))\n",
        "    # img = Variable(img, requires_grad = False)\n",
        "    img = Variable(img, requires_grad = False).cuda()\n",
        "\n",
        "    output = imodel(img) # forward prop.\n",
        "    _, output_index = torch.max(output, 1)\n",
        "\n",
        "    total += label.size(0)\n",
        "    correct += (output_index == label).sum().float()\n",
        "\n",
        "  print(\"Accuracy of Test Data : {}\".format(100 * correct / total))"
      ],
      "metadata": {
        "id": "fg_4hogCAWRl"
      },
      "execution_count": 9,
      "outputs": []
    },
    {
      "cell_type": "code",
      "source": [
        "ComputeAccr(test_loader, model)"
      ],
      "metadata": {
        "colab": {
          "base_uri": "https://localhost:8080/"
        },
        "id": "pkKwJcy5BkLF",
        "outputId": "ec8d1cc2-e9ca-443a-b146-12813895e6e6"
      },
      "execution_count": 10,
      "outputs": [
        {
          "output_type": "stream",
          "name": "stdout",
          "text": [
            "Accuracy of Test Data : 9.733073234558105\n"
          ]
        }
      ]
    },
    {
      "cell_type": "markdown",
      "source": [
        "# 5. loss, optimizer"
      ],
      "metadata": {
        "id": "3Y_koQ4WBwAs"
      }
    },
    {
      "cell_type": "code",
      "source": [
        "loss_func = nn.CrossEntropyLoss() # logit(# of classes), target(1)\n",
        "optimizer = optim.SGD(model.parameters(), lr = learning_rate)"
      ],
      "metadata": {
        "id": "zuqpJCGdBo38"
      },
      "execution_count": 11,
      "outputs": []
    },
    {
      "cell_type": "markdown",
      "source": [
        "# 6. 학습"
      ],
      "metadata": {
        "id": "CEdmBMjSB-4w"
      }
    },
    {
      "cell_type": "code",
      "source": [
        "num_epoch = 400\n",
        "\n",
        "for i in range(num_epoch):\n",
        "  for j, [imgs, labels] in enumerate(train_loader): # batch_size 만큼\n",
        "    img = imgs # (batch_size, 1, 28, 28)\n",
        "    # label = Variable(labels) # (batch_size)\n",
        "    label = Variable(labels).cuda() # (batch_size)\n",
        "\n",
        "    # (batch_size, 1, 28, 28) -> (batch_size, 28, 28)\n",
        "    img = img.reshape((img.shape[0], img.shape[2], img.shape[3]))\n",
        "    # (bathc_size, 28, 28) -> (batch_size, 28 * 28)\n",
        "    img = img.reshape((img.shape[0], img.shape[1] * img.shape[2]))\n",
        "    # img = Variable(img, requires_grad = True)\n",
        "    img = Variable(img, requires_grad = True).cuda()\n",
        "\n",
        "    optimizer.zero_grad()\n",
        "    output = model(img) # forward prop.\n",
        "    loss = loss_func(output, label) # logit(# of classes), target(1)\n",
        "\n",
        "    loss.backward() # back prop.\n",
        "    optimizer.step() # weight 조정\n",
        "\n",
        "  if i % 50 == 0:\n",
        "    print(\"%d..\" %i)\n",
        "    ComputeAccr(test_loader, model)\n",
        "    print(loss)"
      ],
      "metadata": {
        "id": "qTRbtessB9cc",
        "colab": {
          "base_uri": "https://localhost:8080/"
        },
        "outputId": "82598840-ced0-4acc-8410-a4c97150c64e"
      },
      "execution_count": 12,
      "outputs": [
        {
          "output_type": "stream",
          "name": "stdout",
          "text": [
            "0..\n",
            "Accuracy of Test Data : 14.680989265441895\n",
            "tensor(2.2966, device='cuda:0', grad_fn=<NllLossBackward0>)\n",
            "50..\n",
            "Accuracy of Test Data : 81.08724212646484\n",
            "tensor(0.6957, device='cuda:0', grad_fn=<NllLossBackward0>)\n",
            "100..\n",
            "Accuracy of Test Data : 88.06423950195312\n",
            "tensor(0.4276, device='cuda:0', grad_fn=<NllLossBackward0>)\n",
            "150..\n",
            "Accuracy of Test Data : 89.7677993774414\n",
            "tensor(0.3748, device='cuda:0', grad_fn=<NllLossBackward0>)\n",
            "200..\n",
            "Accuracy of Test Data : 90.70095825195312\n",
            "tensor(0.3013, device='cuda:0', grad_fn=<NllLossBackward0>)\n",
            "250..\n",
            "Accuracy of Test Data : 91.27603912353516\n",
            "tensor(0.3193, device='cuda:0', grad_fn=<NllLossBackward0>)\n",
            "300..\n",
            "Accuracy of Test Data : 91.6015625\n",
            "tensor(0.3736, device='cuda:0', grad_fn=<NllLossBackward0>)\n",
            "350..\n",
            "Accuracy of Test Data : 91.92708587646484\n",
            "tensor(0.2749, device='cuda:0', grad_fn=<NllLossBackward0>)\n"
          ]
        }
      ]
    },
    {
      "cell_type": "markdown",
      "source": [
        "# 7. 텍스트"
      ],
      "metadata": {
        "id": "AJcwF-xZmH4s"
      }
    },
    {
      "cell_type": "code",
      "source": [
        "ComputeAccr(test_loader, model) # 96. %(ReLU), 92.48%(ReLU X)\n",
        "\n"
      ],
      "metadata": {
        "id": "0ReeL-2ajAoL",
        "colab": {
          "base_uri": "https://localhost:8080/"
        },
        "outputId": "1d81fe09-899c-4460-ed17-f8df8e29489c"
      },
      "execution_count": 13,
      "outputs": [
        {
          "output_type": "stream",
          "name": "stdout",
          "text": [
            "Accuracy of Test Data : 92.03559112548828\n"
          ]
        }
      ]
    },
    {
      "cell_type": "markdown",
      "source": [
        "# 8. 학습된 파라미터 저장"
      ],
      "metadata": {
        "id": "L6g79H3X4NdJ"
      }
    },
    {
      "cell_type": "code",
      "source": [
        "netname = './mlp_weight.pkl'\n",
        "torch.save(model, netname, )\n",
        "\n",
        "# model = torch.load(netname)"
      ],
      "metadata": {
        "id": "137PFD0j4O63"
      },
      "execution_count": 15,
      "outputs": []
    },
    {
      "cell_type": "markdown",
      "source": [
        "# 9. (Optional) 실습1에 쓰인 .npz 만들려면?"
      ],
      "metadata": {
        "id": "goLLouBw6LyN"
      }
    },
    {
      "cell_type": "code",
      "source": [
        "np.savez_compressed('./nets/mlp_weight.npz',\n",
        "                    W1 = W1, b1 = b1,\n",
        "                    W2 = W2, b2 = b2,\n",
        "                    W3 = W3, b3 = b3)"
      ],
      "metadata": {
        "id": "nIes7n3J6Qzv"
      },
      "execution_count": null,
      "outputs": []
    }
  ]
}